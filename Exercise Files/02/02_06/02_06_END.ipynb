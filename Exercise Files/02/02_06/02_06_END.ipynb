{
 "cells": [
  {
   "cell_type": "code",
   "execution_count": 1,
   "metadata": {},
   "outputs": [],
   "source": [
    "#import all libraries\n",
    "\n",
    "# numpy and pandas help us load and manipulate data\n",
    "import numpy as np\n",
    "import pandas as pd\n",
    "\n",
    "# matplotlib and seaborn are used to plot data\n",
    "import matplotlib.pyplot as plt\n",
    "import seaborn as sns\n",
    "%matplotlib inline\n",
    "from statsmodels.formula.api import ols\n",
    "\n",
    "#sklearn has many machine learning algorithms\n",
    "from sklearn.linear_model import LinearRegression\n",
    "\n",
    "# this helps split data for modeling\n",
    "from sklearn.model_selection import train_test_split\n",
    "\n",
    "import scipy as sp\n",
    "import statsmodels.stats.diagnostic as diag\n",
    "from statsmodels.stats.diagnostic import het_breuschpagan\n",
    "\n",
    "import matplotlib.pyplot as plt\n",
    "import numpy as np\n",
    "import pandas as pd\n",
    "import scipy as sp\n",
    "import seaborn as sns\n",
    "import statsmodels.api as sms\n",
    "import pysal\n",
    "\n",
    "import statsmodels.tsa.api as smt\n",
    "from statsmodels.compat import lzip\n",
    "from statsmodels.stats.outliers_influence import variance_inflation_factor\n",
    "from statsmodels.tools.tools import add_constant"
   ]
  },
  {
   "cell_type": "code",
   "execution_count": 2,
   "metadata": {},
   "outputs": [
    {
     "name": "stdout",
     "output_type": "stream",
     "text": [
      "/Users/aodubela/Desktop/ExerciseFiles/Data\n"
     ]
    }
   ],
   "source": [
    "cd Desktop/ExerciseFiles/Data"
   ]
  },
  {
   "cell_type": "code",
   "execution_count": 3,
   "metadata": {},
   "outputs": [
    {
     "data": {
      "text/html": [
       "<table class=\"simpletable\">\n",
       "<caption>OLS Regression Results</caption>\n",
       "<tr>\n",
       "  <th>Dep. Variable:</th>           <td>G3</td>        <th>  R-squared:         </th> <td>   0.829</td>\n",
       "</tr>\n",
       "<tr>\n",
       "  <th>Model:</th>                   <td>OLS</td>       <th>  Adj. R-squared:    </th> <td>   0.829</td>\n",
       "</tr>\n",
       "<tr>\n",
       "  <th>Method:</th>             <td>Least Squares</td>  <th>  F-statistic:       </th> <td>   5068.</td>\n",
       "</tr>\n",
       "<tr>\n",
       "  <th>Date:</th>             <td>Tue, 03 Nov 2020</td> <th>  Prob (F-statistic):</th>  <td>  0.00</td> \n",
       "</tr>\n",
       "<tr>\n",
       "  <th>Time:</th>                 <td>18:01:16</td>     <th>  Log-Likelihood:    </th> <td> -1969.0</td>\n",
       "</tr>\n",
       "<tr>\n",
       "  <th>No. Observations:</th>      <td>  1044</td>      <th>  AIC:               </th> <td>   3942.</td>\n",
       "</tr>\n",
       "<tr>\n",
       "  <th>Df Residuals:</th>          <td>  1042</td>      <th>  BIC:               </th> <td>   3952.</td>\n",
       "</tr>\n",
       "<tr>\n",
       "  <th>Df Model:</th>              <td>     1</td>      <th>                     </th>     <td> </td>   \n",
       "</tr>\n",
       "<tr>\n",
       "  <th>Covariance Type:</th>      <td>nonrobust</td>    <th>                     </th>     <td> </td>   \n",
       "</tr>\n",
       "</table>\n",
       "<table class=\"simpletable\">\n",
       "<tr>\n",
       "    <td></td>       <th>coef</th>     <th>std err</th>      <th>t</th>      <th>P>|t|</th>  <th>[0.025</th>    <th>0.975]</th>  \n",
       "</tr>\n",
       "<tr>\n",
       "  <th>const</th> <td>   -0.7079</td> <td>    0.176</td> <td>   -4.015</td> <td> 0.000</td> <td>   -1.054</td> <td>   -0.362</td>\n",
       "</tr>\n",
       "<tr>\n",
       "  <th>G2</th>    <td>    1.0715</td> <td>    0.015</td> <td>   71.188</td> <td> 0.000</td> <td>    1.042</td> <td>    1.101</td>\n",
       "</tr>\n",
       "</table>\n",
       "<table class=\"simpletable\">\n",
       "<tr>\n",
       "  <th>Omnibus:</th>       <td>714.254</td> <th>  Durbin-Watson:     </th> <td>   1.818</td> \n",
       "</tr>\n",
       "<tr>\n",
       "  <th>Prob(Omnibus):</th> <td> 0.000</td>  <th>  Jarque-Bera (JB):  </th> <td>10032.938</td>\n",
       "</tr>\n",
       "<tr>\n",
       "  <th>Skew:</th>          <td>-3.010</td>  <th>  Prob(JB):          </th> <td>    0.00</td> \n",
       "</tr>\n",
       "<tr>\n",
       "  <th>Kurtosis:</th>      <td>16.943</td>  <th>  Cond. No.          </th> <td>    42.1</td> \n",
       "</tr>\n",
       "</table><br/><br/>Warnings:<br/>[1] Standard Errors assume that the covariance matrix of the errors is correctly specified."
      ],
      "text/plain": [
       "<class 'statsmodels.iolib.summary.Summary'>\n",
       "\"\"\"\n",
       "                            OLS Regression Results                            \n",
       "==============================================================================\n",
       "Dep. Variable:                     G3   R-squared:                       0.829\n",
       "Model:                            OLS   Adj. R-squared:                  0.829\n",
       "Method:                 Least Squares   F-statistic:                     5068.\n",
       "Date:                Tue, 03 Nov 2020   Prob (F-statistic):               0.00\n",
       "Time:                        18:01:16   Log-Likelihood:                -1969.0\n",
       "No. Observations:                1044   AIC:                             3942.\n",
       "Df Residuals:                    1042   BIC:                             3952.\n",
       "Df Model:                           1                                         \n",
       "Covariance Type:            nonrobust                                         \n",
       "==============================================================================\n",
       "                 coef    std err          t      P>|t|      [0.025      0.975]\n",
       "------------------------------------------------------------------------------\n",
       "const         -0.7079      0.176     -4.015      0.000      -1.054      -0.362\n",
       "G2             1.0715      0.015     71.188      0.000       1.042       1.101\n",
       "==============================================================================\n",
       "Omnibus:                      714.254   Durbin-Watson:                   1.818\n",
       "Prob(Omnibus):                  0.000   Jarque-Bera (JB):            10032.938\n",
       "Skew:                          -3.010   Prob(JB):                         0.00\n",
       "Kurtosis:                      16.943   Cond. No.                         42.1\n",
       "==============================================================================\n",
       "\n",
       "Warnings:\n",
       "[1] Standard Errors assume that the covariance matrix of the errors is correctly specified.\n",
       "\"\"\""
      ]
     },
     "execution_count": 3,
     "metadata": {},
     "output_type": "execute_result"
    }
   ],
   "source": [
    "# load Student Performance Data\n",
    "\n",
    "student1 = pd.read_csv(\"student-mat.csv\", sep = ';', header = 0)\n",
    "student2 = pd.read_csv(\"student-por.csv\", sep = ';', header = 0)\n",
    "students = pd.concat([student1,student2])\n",
    "\n",
    "# Drop protected column\n",
    "students = students.drop(['school', 'sex', 'age', 'address',], axis=1)\n",
    "\n",
    "# Create dummy variables for categorical columns\n",
    "\n",
    "df = pd.get_dummies(students, columns=['Pstatus','famsize','Mjob', 'Fjob', 'reason', 'guardian', 'famsup', 'paid', 'activities', 'schoolsup', 'nursery','higher','internet', 'romantic'])\n",
    "\n",
    "#Split Data\n",
    "\n",
    "X = df.iloc[:, : -1]\n",
    "y = df['G3']\n",
    "X_train, X_test, y_train, y_test = train_test_split(X, y, test_size=0.30, random_state=123)\n",
    "\n",
    "# Create Linear Regression (OLS)\n",
    "\n",
    "y = df.G3  # response\n",
    "X = df.G2  # predictor\n",
    "X = sms.add_constant(X)  # Adds a constant term to the predictor\n",
    "X.head()  \n",
    "est=sms.OLS(y, X)\n",
    "est = est.fit()\n",
    "est.summary()\n"
   ]
  },
  {
   "cell_type": "code",
   "execution_count": null,
   "metadata": {},
   "outputs": [],
   "source": []
  },
  {
   "cell_type": "code",
   "execution_count": null,
   "metadata": {},
   "outputs": [],
   "source": []
  },
  {
   "cell_type": "code",
   "execution_count": null,
   "metadata": {},
   "outputs": [],
   "source": []
  },
  {
   "cell_type": "code",
   "execution_count": null,
   "metadata": {},
   "outputs": [],
   "source": []
  },
  {
   "cell_type": "code",
   "execution_count": null,
   "metadata": {},
   "outputs": [],
   "source": []
  },
  {
   "cell_type": "code",
   "execution_count": null,
   "metadata": {},
   "outputs": [],
   "source": []
  }
 ],
 "metadata": {
  "kernelspec": {
   "display_name": "Python 3",
   "language": "python",
   "name": "python3"
  },
  "language_info": {
   "codemirror_mode": {
    "name": "ipython",
    "version": 3
   },
   "file_extension": ".py",
   "mimetype": "text/x-python",
   "name": "python",
   "nbconvert_exporter": "python",
   "pygments_lexer": "ipython3",
   "version": "3.8.3"
  }
 },
 "nbformat": 4,
 "nbformat_minor": 4
}
