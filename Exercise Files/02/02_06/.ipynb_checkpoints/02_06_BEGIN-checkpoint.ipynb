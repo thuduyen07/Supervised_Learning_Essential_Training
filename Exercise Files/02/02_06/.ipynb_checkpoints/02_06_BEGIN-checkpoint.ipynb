{
 "cells": [
  {
   "cell_type": "code",
   "execution_count": null,
   "metadata": {},
   "outputs": [],
   "source": [
    "#import all libraries\n",
    "\n",
    "# numpy and pandas help us load and manipulate data\n",
    "import numpy as np\n",
    "import pandas as pd\n",
    "\n",
    "# matplotlib and seaborn are used to plot data\n",
    "import matplotlib.pyplot as plt\n",
    "import seaborn as sns\n",
    "%matplotlib inline\n",
    "from statsmodels.formula.api import ols\n",
    "\n",
    "#sklearn has many machine learning algorithms\n",
    "from sklearn.linear_model import LinearRegression\n",
    "\n",
    "# this helps split data for modeling\n",
    "from sklearn.model_selection import train_test_split\n",
    "\n",
    "import scipy as sp\n",
    "import statsmodels.stats.diagnostic as diag\n",
    "from statsmodels.stats.diagnostic import het_breuschpagan\n",
    "\n",
    "import matplotlib.pyplot as plt\n",
    "import numpy as np\n",
    "import pandas as pd\n",
    "import scipy as sp\n",
    "import seaborn as sns\n",
    "import statsmodels.api as sms\n",
    "import pysal\n",
    "\n",
    "import statsmodels.tsa.api as smt\n",
    "from statsmodels.compat import lzip\n",
    "from statsmodels.stats.outliers_influence import variance_inflation_factor\n",
    "from statsmodels.tools.tools import add_constant"
   ]
  },
  {
   "cell_type": "code",
   "execution_count": null,
   "metadata": {},
   "outputs": [],
   "source": [
    "cd Desktop/ExerciseFiles/Data"
   ]
  },
  {
   "cell_type": "code",
   "execution_count": null,
   "metadata": {},
   "outputs": [],
   "source": [
    "# load Student Performance Data\n",
    "\n",
    "student1 = pd.read_csv(\"../../Data/student-mat.csv\", sep = ';', header = 0)\n",
    "student2 = pd.read_csv(\"../../Data/student-mat.csv\", sep = ';', header = 0)\n",
    "students = pd.concat([student1,student2])\n",
    "\n",
    "# Drop protected column\n",
    "students = students.drop(['school', 'sex', 'age', 'address',], axis=1)\n",
    "\n",
    "# Create dummy variables for categorical columns\n",
    "\n",
    "df = pd.get_dummies(students, columns=['Pstatus','famsize','Mjob', 'Fjob', 'reason', 'guardian', 'famsup', 'paid', 'activities', 'schoolsup', 'nursery','higher','internet', 'romantic'])\n",
    "\n",
    "# Split Data\n",
    "\n",
    "# Create feature and response arrays \n",
    "# Your code goes here\n",
    "\n",
    "\n",
    "X_train, X_test, y_train, y_test = train_test_split(X, y, test_size=0.30, random_state=123)\n",
    "\n",
    "# Create Linear Regression (OLS)\n",
    "\n",
    "y = df.G3  # response\n",
    "X = df.G2  # predictor\n",
    "X = sms.add_constant(X)  # Adds a constant term to the predictor\n",
    "X.head()  \n",
    "\n",
    "# Create regressor object, fit it, and print a summary \n",
    "# Your code goes here\n",
    "\n",
    "\n",
    "\n"
   ]
  },
  {
   "cell_type": "code",
   "execution_count": null,
   "metadata": {},
   "outputs": [],
   "source": []
  }
 ],
 "metadata": {
  "kernelspec": {
   "display_name": "Python 3",
   "language": "python",
   "name": "python3"
  },
  "language_info": {
   "codemirror_mode": {
    "name": "ipython",
    "version": 3
   },
   "file_extension": ".py",
   "mimetype": "text/x-python",
   "name": "python",
   "nbconvert_exporter": "python",
   "pygments_lexer": "ipython3",
   "version": "3.8.3"
  }
 },
 "nbformat": 4,
 "nbformat_minor": 4
}
